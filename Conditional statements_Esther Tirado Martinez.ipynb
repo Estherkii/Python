{
 "cells": [
  {
   "cell_type": "markdown",
   "id": "61e4e4f2",
   "metadata": {},
   "source": [
    "1.1 Ask the user to input a number (should be integer). Check if the number is even or odd. Remember that 0 is neither even nor odd. Note, when you would use the `input` function, by default it is string. You would have to use type conversion to convert it into integer."
   ]
  },
  {
   "cell_type": "code",
   "execution_count": 1,
   "id": "c4ead8c1",
   "metadata": {},
   "outputs": [
    {
     "name": "stdout",
     "output_type": "stream",
     "text": [
      "Please enter value for a: 10\n",
      "The number is even.\n"
     ]
    }
   ],
   "source": [
    "a = int(input(\"Please enter value for a: \"))\n",
    "\n",
    "if a % 2 == 0:\n",
    "    print(\"The number is even.\")\n",
    "else:\n",
    "    print(\"The number is odd.\")"
   ]
  },
  {
   "cell_type": "markdown",
   "id": "44cd98b4",
   "metadata": {},
   "source": [
    "1.2 Ask the user to input a number (should be integer). Check whether the number is zero, positive or negative."
   ]
  },
  {
   "cell_type": "code",
   "execution_count": 3,
   "id": "4d674a67",
   "metadata": {},
   "outputs": [
    {
     "name": "stdout",
     "output_type": "stream",
     "text": [
      "Please enter value for a: 10\n",
      "The number is negative.\n"
     ]
    }
   ],
   "source": [
    "a = int(input(\"Please enter value for a: \"))\n",
    "\n",
    "if a == + 0:\n",
    "    print(\"The number is positive.\")\n",
    "else:\n",
    "    print(\"The number is negative.\")"
   ]
  },
  {
   "cell_type": "markdown",
   "id": "4c0fff10",
   "metadata": {},
   "source": [
    "1.3 A school has following grading system:\n",
    "\n",
    "a. Below 25 - F\n",
    "b. 25 to 45 - E\n",
    "c. 45 to 60 - D\n",
    "d. 60 to 75 - C\n",
    "e. 75 to 90 - B\n",
    "f. Above 90 - A\n",
    "\n",
    "Ask user to enter marks (assuming the marks are between 0 and 100) and print the corresponding grade."
   ]
  },
  {
   "cell_type": "code",
   "execution_count": 4,
   "id": "890a27f5",
   "metadata": {},
   "outputs": [
    {
     "name": "stdout",
     "output_type": "stream",
     "text": [
      "Please enter the marks: 40\n",
      "Grade: E\n"
     ]
    }
   ],
   "source": [
    "marks = int(input(\"Please enter the marks: \"))\n",
    "\n",
    "if marks < 25:\n",
    "    print(\"Grade: F\")\n",
    "elif marks < 45:\n",
    "    print(\"Grade: E\")\n",
    "elif marks < 60:\n",
    "    print(\"Grade: D\")\n",
    "elif marks < 75:\n",
    "    print (\"Grade: C\")\n",
    "elif marks < 90:\n",
    "    print (\"Grade: B\")\n",
    "else:\n",
    "    print(\"Grade: A\")"
   ]
  },
  {
   "cell_type": "markdown",
   "id": "e786cd15",
   "metadata": {},
   "source": [
    "Bonus: In the problem 1.1, we asked you to write a code to enter an integer and then check if that number is even or not. What if the user inputs a letter or some symbol instead? If we don’t handle this properly, the code will break. We should prompt the user if the input entered was incorrect.\n",
    "\n",
    "Now try and make this code more robust by first checking if the entered input is a number or not. If the number entered is an integer, only then check if it is even or not."
   ]
  },
  {
   "cell_type": "code",
   "execution_count": 5,
   "id": "5581782d",
   "metadata": {},
   "outputs": [
    {
     "name": "stdout",
     "output_type": "stream",
     "text": [
      "Please enter a number: 40\n",
      "The number is even.\n"
     ]
    }
   ],
   "source": [
    "a = input(\"Please enter a number: \")\n",
    "\n",
    "if a.isdigit():\n",
    "    a = int(a)\n",
    "    if a % 2 == 0:\n",
    "        print(\"The number is even.\")\n",
    "    else:\n",
    "        print(\"The number is odd.\")\n",
    "else:\n",
    "    print(\"Invalid input. Please enter a valid number.\")"
   ]
  }
 ],
 "metadata": {
  "kernelspec": {
   "display_name": "Python 3 (ipykernel)",
   "language": "python",
   "name": "python3"
  },
  "language_info": {
   "codemirror_mode": {
    "name": "ipython",
    "version": 3
   },
   "file_extension": ".py",
   "mimetype": "text/x-python",
   "name": "python",
   "nbconvert_exporter": "python",
   "pygments_lexer": "ipython3",
   "version": "3.10.9"
  }
 },
 "nbformat": 4,
 "nbformat_minor": 5
}
