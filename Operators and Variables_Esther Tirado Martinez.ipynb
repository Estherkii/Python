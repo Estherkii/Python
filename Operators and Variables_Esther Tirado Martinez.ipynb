{
 "cells": [
  {
   "cell_type": "markdown",
   "id": "6a6ce7c3",
   "metadata": {},
   "source": [
    "1. Exercise - Variables"
   ]
  },
  {
   "cell_type": "markdown",
   "id": "5ec95f8b",
   "metadata": {},
   "source": [
    "1.1 For the following variables, use the function type() from Python to check the data type for the variables.\n",
    "\n",
    "Copy\n",
    "x1 = 1.1\n",
    "x2 = \"Ironhack\"\n",
    "x3 = \"1.1\"\n",
    "x4 = True\n",
    "x5 = \"True\"\n",
    "x6 = -1"
   ]
  },
  {
   "cell_type": "code",
   "execution_count": 1,
   "id": "47b6c3ee",
   "metadata": {},
   "outputs": [],
   "source": [
    "x1 = 1.1\n",
    "x2 = \"Ironhack\"\n",
    "x3 = \"1.1\"\n",
    "x4 = True\n",
    "x5 = \"True\"\n",
    "x6 = -1"
   ]
  },
  {
   "cell_type": "markdown",
   "id": "e3e2b6d7",
   "metadata": {},
   "source": [
    "1.2 What is the difference between variables x1 and x3?"
   ]
  },
  {
   "cell_type": "code",
   "execution_count": 2,
   "id": "3b8d53c1",
   "metadata": {},
   "outputs": [
    {
     "data": {
      "text/plain": [
       "float"
      ]
     },
     "execution_count": 2,
     "metadata": {},
     "output_type": "execute_result"
    }
   ],
   "source": [
    "type (x1) "
   ]
  },
  {
   "cell_type": "code",
   "execution_count": 3,
   "id": "c190757b",
   "metadata": {},
   "outputs": [
    {
     "data": {
      "text/plain": [
       "str"
      ]
     },
     "execution_count": 3,
     "metadata": {},
     "output_type": "execute_result"
    }
   ],
   "source": [
    "type (x3)"
   ]
  },
  {
   "cell_type": "markdown",
   "id": "10885824",
   "metadata": {},
   "source": [
    "1.3 What happens if you subtract x3 from x1?"
   ]
  },
  {
   "cell_type": "code",
   "execution_count": 4,
   "id": "ff9f6726",
   "metadata": {},
   "outputs": [],
   "source": [
    "result = x1 - float(x3) #no se podría porque daría Typerror, habría que convertir a float"
   ]
  },
  {
   "cell_type": "markdown",
   "id": "dd0aaff4",
   "metadata": {},
   "source": [
    "1.4 What is the difference between variables x4 and x5?"
   ]
  },
  {
   "cell_type": "code",
   "execution_count": 5,
   "id": "59dcb03b",
   "metadata": {},
   "outputs": [
    {
     "data": {
      "text/plain": [
       "bool"
      ]
     },
     "execution_count": 5,
     "metadata": {},
     "output_type": "execute_result"
    }
   ],
   "source": [
    "type (x4)"
   ]
  },
  {
   "cell_type": "code",
   "execution_count": 6,
   "id": "b2f5e88d",
   "metadata": {},
   "outputs": [
    {
     "data": {
      "text/plain": [
       "str"
      ]
     },
     "execution_count": 6,
     "metadata": {},
     "output_type": "execute_result"
    }
   ],
   "source": [
    "type (x5)"
   ]
  },
  {
   "cell_type": "markdown",
   "id": "f3f0302f",
   "metadata": {},
   "source": [
    "1.5 What happens if you subtract x5 from x4?"
   ]
  },
  {
   "cell_type": "code",
   "execution_count": 7,
   "id": "41916778",
   "metadata": {},
   "outputs": [],
   "source": [
    "result = x4 - bool(x5) #no se podría porque daría Typerror, habría que convertir a booleano"
   ]
  },
  {
   "cell_type": "markdown",
   "id": "7a13a16c",
   "metadata": {},
   "source": [
    "Exercise - Operators"
   ]
  },
  {
   "cell_type": "markdown",
   "id": "80e7aa0f",
   "metadata": {},
   "source": [
    "2.1 In this problem we will show you how to take a user input. To gather input from the user, we can use the function input(message), where “message” is a meaningful message of type str and will be displayed to the user.\n",
    "\n",
    "Use the code and then answer the questions that follow:\n",
    "\n",
    "x1 = input(\"Please enter an integer number: \") x2 = input(\"Please enter another integer number: \")"
   ]
  },
  {
   "cell_type": "code",
   "execution_count": 11,
   "id": "6888e19a",
   "metadata": {},
   "outputs": [
    {
     "name": "stdout",
     "output_type": "stream",
     "text": [
      "Please enter an integer number: 10\n",
      "Please enter another integer number: 5\n"
     ]
    }
   ],
   "source": [
    "x1 = input(\"Please enter an integer number: \")\n",
    "x2 = input(\"Please enter another integer number: \")"
   ]
  },
  {
   "cell_type": "markdown",
   "id": "e9596f86",
   "metadata": {},
   "source": [
    "Question 1: Print the values of the two variables? As you might have noticed, data type of x1 and x2 is string. Even though we entered integers, the input function converts them into string by default. Now we do some data type conversion from string to integers:\n",
    "\n",
    "x1 = int(x1) x2 = int(x2)"
   ]
  },
  {
   "cell_type": "code",
   "execution_count": 12,
   "id": "96308143",
   "metadata": {},
   "outputs": [],
   "source": [
    "x1 = int(x1)\n",
    "x2 = int(x2)"
   ]
  },
  {
   "cell_type": "code",
   "execution_count": 13,
   "id": "7ac28e0f",
   "metadata": {},
   "outputs": [
    {
     "name": "stdout",
     "output_type": "stream",
     "text": [
      "10\n",
      "5\n"
     ]
    }
   ],
   "source": [
    "print(x1)\n",
    "print(x2)"
   ]
  },
  {
   "cell_type": "markdown",
   "id": "97dcd764",
   "metadata": {},
   "source": [
    "Check if the two variables are equal?"
   ]
  },
  {
   "cell_type": "code",
   "execution_count": 14,
   "id": "34d9c9d1",
   "metadata": {},
   "outputs": [
    {
     "name": "stdout",
     "output_type": "stream",
     "text": [
      "False\n"
     ]
    }
   ],
   "source": [
    "print (x1 == x2)"
   ]
  },
  {
   "cell_type": "markdown",
   "id": "8f37998b",
   "metadata": {},
   "source": [
    "Check if x1 is greater than x2?"
   ]
  },
  {
   "cell_type": "code",
   "execution_count": 15,
   "id": "f7bbdbc7",
   "metadata": {},
   "outputs": [
    {
     "name": "stdout",
     "output_type": "stream",
     "text": [
      "True\n"
     ]
    }
   ],
   "source": [
    "print (x1 > x2)"
   ]
  },
  {
   "cell_type": "markdown",
   "id": "82203ec9",
   "metadata": {},
   "source": [
    "Check if x1 is not equal to x2?"
   ]
  },
  {
   "cell_type": "code",
   "execution_count": 16,
   "id": "480fe920",
   "metadata": {},
   "outputs": [
    {
     "name": "stdout",
     "output_type": "stream",
     "text": [
      "True\n"
     ]
    }
   ],
   "source": [
    "print (x1 != x2)"
   ]
  },
  {
   "cell_type": "markdown",
   "id": "0c1dee12",
   "metadata": {},
   "source": [
    "Store the difference between the two variables x1 and x2 in another variable x3 (subtract the smaller number from the larger number)."
   ]
  },
  {
   "cell_type": "code",
   "execution_count": 17,
   "id": "2b381144",
   "metadata": {},
   "outputs": [
    {
     "name": "stdout",
     "output_type": "stream",
     "text": [
      "-5\n"
     ]
    }
   ],
   "source": [
    "if x1 > x2: x3=  x2 - x1\n",
    "else: x3= x1 - x2\n",
    "print (x3)"
   ]
  },
  {
   "cell_type": "markdown",
   "id": "18f7eca3",
   "metadata": {},
   "source": [
    "Increment the smaller of the two variables (x1 and x2) with the difference.Use the shorthand addition operator for the same. Again check if x1 and x2 are equal or not?"
   ]
  },
  {
   "cell_type": "code",
   "execution_count": 18,
   "id": "5802e956",
   "metadata": {},
   "outputs": [
    {
     "name": "stdout",
     "output_type": "stream",
     "text": [
      "x1 and x2 are not equal\n"
     ]
    }
   ],
   "source": [
    "if x1 < x2: x1 += x2 - x1\n",
    "else: x2= x1 - x2\n",
    "if x1 == x2:\n",
    "    print(\"x1 and x2 are equal\")\n",
    "else:\n",
    "    print(\"x1 and x2 are not equal\")"
   ]
  },
  {
   "cell_type": "markdown",
   "id": "58359e6f",
   "metadata": {},
   "source": [
    "2.2 In the lesson, we talked about math library in Python. Here is a link to the math library documentation. Go through the documentation and try any 3 or more functions on a numerical variable that were not described in the lesson."
   ]
  },
  {
   "cell_type": "code",
   "execution_count": 19,
   "id": "506a4f0b",
   "metadata": {},
   "outputs": [
    {
     "name": "stdout",
     "output_type": "stream",
     "text": [
      "2.45\n"
     ]
    }
   ],
   "source": [
    "import math\n",
    "\n",
    "x = 2.45\n",
    "y = 3.16\n",
    "\n",
    "result = math.copysign (x, y)\n",
    "print(result)"
   ]
  },
  {
   "cell_type": "code",
   "execution_count": 20,
   "id": "010032c5",
   "metadata": {},
   "outputs": [
    {
     "name": "stdout",
     "output_type": "stream",
     "text": [
      "True\n"
     ]
    }
   ],
   "source": [
    "import math\n",
    "\n",
    "x= 2.45\n",
    "\n",
    "result = math.isfinite(x)\n",
    "print (result)"
   ]
  },
  {
   "cell_type": "code",
   "execution_count": 21,
   "id": "f41e2ea1",
   "metadata": {},
   "outputs": [
    {
     "name": "stdout",
     "output_type": "stream",
     "text": [
      "(0.6125, 2)\n"
     ]
    }
   ],
   "source": [
    "import math\n",
    "\n",
    "x = 2.45\n",
    "y = 3.16\n",
    "\n",
    "result = math.frexp(x)\n",
    "print (result)"
   ]
  }
 ],
 "metadata": {
  "kernelspec": {
   "display_name": "Python 3 (ipykernel)",
   "language": "python",
   "name": "python3"
  },
  "language_info": {
   "codemirror_mode": {
    "name": "ipython",
    "version": 3
   },
   "file_extension": ".py",
   "mimetype": "text/x-python",
   "name": "python",
   "nbconvert_exporter": "python",
   "pygments_lexer": "ipython3",
   "version": "3.10.9"
  }
 },
 "nbformat": 4,
 "nbformat_minor": 5
}
